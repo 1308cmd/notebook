{
 "cells": [
  {
   "cell_type": "markdown",
   "id": "92be7e25-c54e-4df8-8311-2544cfb2911e",
   "metadata": {},
   "source": [
    "# Data Science Tools and Ecosystem\n"
   ]
  },
  {
   "cell_type": "markdown",
   "id": "5df45188-d3ba-414e-990e-ed53fbcab545",
   "metadata": {},
   "source": [
    "In this notebook, Data Science Tools and Ecosystem are summarized."
   ]
  },
  {
   "cell_type": "markdown",
   "id": "18da7274-a836-4b05-acc9-cbe518b22eca",
   "metadata": {},
   "source": [
    " Some of the popular languages that Data Scientists use are:\n",
    "1. Python\n",
    "2. R\n",
    "3. SQL"
   ]
  },
  {
   "cell_type": "markdown",
   "id": "0b842b41-1a3f-4c53-9870-9d3e02b2b879",
   "metadata": {},
   "source": [
    "Some of the commonly used libraries used by Data Scientists include:¶\n",
    "1. NymPy\n",
    "2. Pandas\n",
    "3. Matplotlib"
   ]
  },
  {
   "cell_type": "markdown",
   "id": "a0e74940-3e34-4a72-a64c-03e45da62970",
   "metadata": {},
   "source": [
    "|Data Science Tools|\n",
    "|------------------|\n",
    "| Apache Hadoop    |\n",
    "| Apache Spark     |\n",
    "| Rstudio          |"
   ]
  },
  {
   "cell_type": "markdown",
   "id": "046d8b8b-13de-4013-95f9-731d8a0c316f",
   "metadata": {},
   "source": [
    "### Below are a few examples of evaluating arithmetic expressions in Python"
   ]
  },
  {
   "cell_type": "code",
   "execution_count": 2,
   "id": "d4cfbb69-e47c-44e5-b050-77dcb9a79695",
   "metadata": {},
   "outputs": [
    {
     "data": {
      "text/plain": [
       "17"
      ]
     },
     "execution_count": 2,
     "metadata": {},
     "output_type": "execute_result"
    }
   ],
   "source": [
    "#This a simple arithmetic expression to mutiply then add integers\n",
    "(3*4)+5"
   ]
  },
  {
   "cell_type": "code",
   "execution_count": 3,
   "id": "961193f7-1c7d-4811-9840-0850c4436fc2",
   "metadata": {},
   "outputs": [
    {
     "data": {
      "text/plain": [
       "3.3333333333333335"
      ]
     },
     "execution_count": 3,
     "metadata": {},
     "output_type": "execute_result"
    }
   ],
   "source": [
    " #This will convert 200 minutes to hours by diving by 60\n",
    "200/60"
   ]
  },
  {
   "cell_type": "markdown",
   "id": "80063869-09df-479d-94ef-46d9a07b0d66",
   "metadata": {},
   "source": [
    "## Objectives:\n",
    "List popular languages for Data Science\n",
    "* Python\n",
    "* R\n",
    "* JavaScript"
   ]
  },
  {
   "cell_type": "markdown",
   "id": "5885aa6a-b6b4-458c-be2c-b783c08b750b",
   "metadata": {},
   "source": [
    "## Author\n",
    "Nitya Sharma"
   ]
  },
  {
   "cell_type": "code",
   "execution_count": null,
   "id": "3b95d164-8a38-412d-a187-29d0b9bcee35",
   "metadata": {},
   "outputs": [],
   "source": []
  }
 ],
 "metadata": {
  "kernelspec": {
   "display_name": "Python 3 (ipykernel)",
   "language": "python",
   "name": "python3"
  },
  "language_info": {
   "codemirror_mode": {
    "name": "ipython",
    "version": 3
   },
   "file_extension": ".py",
   "mimetype": "text/x-python",
   "name": "python",
   "nbconvert_exporter": "python",
   "pygments_lexer": "ipython3",
   "version": "3.11.7"
  }
 },
 "nbformat": 4,
 "nbformat_minor": 5
}
